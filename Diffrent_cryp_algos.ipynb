{
 "cells": [
  {
   "cell_type": "code",
   "execution_count": 1,
   "metadata": {},
   "outputs": [],
   "source": [
    "import numpy as np"
   ]
  },
  {
   "cell_type": "code",
   "execution_count": 30,
   "metadata": {},
   "outputs": [
    {
     "data": {
      "text/plain": [
       "'idysoeakH_n__e'"
      ]
     },
     "execution_count": 30,
     "metadata": {},
     "output_type": "execute_result"
    }
   ],
   "source": [
    "key=\"54712\"\n",
    "msg=\"He is a donkey\"\n",
    "\n",
    "col=len(list(key))\n",
    "y=len(list(msg))\n",
    "\n",
    "row=int(np.ceil(y/col))\n",
    "\n",
    "arr=np.empty([row,col],np.str)\n",
    "k=0\n",
    "h=0\n",
    "for i in msg:\n",
    "    if(k==col):\n",
    "        h=h+1\n",
    "        k=0\n",
    "    if(k<col):\n",
    "        if(i==' '):\n",
    "            arr[h][k]='_'\n",
    "        else:\n",
    "            arr[h][k]=i\n",
    "        k=k+1\n",
    "        \n",
    "l_key=list(key)\n",
    "l_key.sort()\n",
    "l_key\n",
    "encrypted_chiper=''\n",
    "\n",
    "\n",
    "for i in l_key:\n",
    "    p=0\n",
    "    for j in key:\n",
    "        if i==j:\n",
    "            for g in range(row):\n",
    "                if(arr[g][p]==''):\n",
    "                    continue\n",
    "                else:\n",
    "                    encrypted_chiper=encrypted_chiper+arr[g][p]\n",
    "        else:\n",
    "            p=p+1\n",
    "    \n",
    "    \n",
    "encrypted_chiper\n",
    "\n",
    "            "
   ]
  },
  {
   "cell_type": "code",
   "execution_count": null,
   "metadata": {},
   "outputs": [],
   "source": []
  }
 ],
 "metadata": {
  "kernelspec": {
   "display_name": "Python 3",
   "language": "python",
   "name": "python3"
  },
  "language_info": {
   "codemirror_mode": {
    "name": "ipython",
    "version": 3
   },
   "file_extension": ".py",
   "mimetype": "text/x-python",
   "name": "python",
   "nbconvert_exporter": "python",
   "pygments_lexer": "ipython3",
   "version": "3.7.4"
  }
 },
 "nbformat": 4,
 "nbformat_minor": 2
}
