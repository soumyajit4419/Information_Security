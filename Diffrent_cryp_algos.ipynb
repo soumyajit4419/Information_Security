{
 "cells": [
  {
   "cell_type": "code",
   "execution_count": 1,
   "metadata": {},
   "outputs": [],
   "source": [
    "import numpy as np"
   ]
  },
  {
   "cell_type": "markdown",
   "metadata": {},
   "source": [
    "# Transposition Cipher\n"
   ]
  },
  {
   "cell_type": "code",
   "execution_count": 6,
   "metadata": {},
   "outputs": [],
   "source": [
    "def encrypt(keywords,encryptedText):\n",
    "    key=keywords\n",
    "    msg=encryptedText\n",
    "    col=len(list(key))\n",
    "    y=len(list(msg))\n",
    "    row=int(np.ceil(y/col))\n",
    "    arr=np.empty([row,col],np.str)\n",
    "    k=0\n",
    "    h=0\n",
    "    for i in msg:\n",
    "        if(k==col):\n",
    "            h=h+1\n",
    "            k=0\n",
    "        if(k<col):\n",
    "            if(i==' '):\n",
    "                arr[h][k]='_'\n",
    "            else:\n",
    "                arr[h][k]=i\n",
    "            k=k+1\n",
    "    print(arr)    \n",
    "    l_key=list(key)\n",
    "    l_key.sort()\n",
    "    encrypted_chiper=''\n",
    "\n",
    "\n",
    "    for i in l_key:\n",
    "        p=0\n",
    "        for j in key:\n",
    "            if i==j:\n",
    "                for g in range(row):\n",
    "                    if(arr[g][p]==''):                        \n",
    "                        encrypted_chiper=encrypted_chiper+' '\n",
    "                    else:\n",
    "                        encrypted_chiper=encrypted_chiper+arr[g][p]\n",
    "            else:\n",
    "                p=p+1\n",
    "    \n",
    "    print(\"Encrypted Text:\")\n",
    "    print(encrypted_chiper)\n",
    "    \n",
    "\n",
    "            "
   ]
  },
  {
   "cell_type": "code",
   "execution_count": 7,
   "metadata": {},
   "outputs": [
    {
     "name": "stdout",
     "output_type": "stream",
     "text": [
      "\n",
      "Text to be Encrypted\n",
      "\n",
      "Enter Key: 54712\n",
      "Text To Be Encrypted: he is a donkey\n",
      "[['h' 'e' '_' 'i' 's']\n",
      " ['_' 'a' '_' 'd' 'o']\n",
      " ['n' 'k' 'e' 'y' '']]\n",
      "Encrypted Text:\n",
      "idyso eakh_n__e\n"
     ]
    }
   ],
   "source": [
    "print(\"\\nText to be Encrypted\\n\")\n",
    "\n",
    "keywords=input(\"Enter Key: \")\n",
    "encryptedText=input(\"Text To Be Encrypted: \")\n",
    "encrypt(keywords,encryptedText)"
   ]
  },
  {
   "cell_type": "code",
   "execution_count": 18,
   "metadata": {},
   "outputs": [],
   "source": [
    "def decrypt(keywords,decryptedText):\n",
    "    msg=decryptedText\n",
    "    key=keywords\n",
    "    col=len(list(key))\n",
    "    y=len(list(msg))\n",
    "    row=int(np.ceil(y/col))\n",
    "    arr=np.empty([row,col],np.str)\n",
    "    l_key=list(key)\n",
    "    l_key.sort()\n",
    "    w=0\n",
    "    for i in l_key:\n",
    "        p=0\n",
    "        for j in key:\n",
    "            if(j==i):\n",
    "                for g in range(row):\n",
    "                    if(w<y):\n",
    "                        arr[g][p]=msg[w]\n",
    "                        w=w+1\n",
    "                    else:\n",
    "                        arr[g][p]='_'\n",
    "            else:\n",
    "                p=p+1\n",
    "\n",
    "    decrypted_chiper=''\n",
    "    for i in arr:\n",
    "        for j in i:\n",
    "            if(j=='_'):\n",
    "                decrypted_chiper=decrypted_chiper+' '\n",
    "            elif(j==' '):\n",
    "                continue\n",
    "            else:\n",
    "                decrypted_chiper=decrypted_chiper+j\n",
    "     \n",
    "    print(\"Decrypted Text:\")\n",
    "    print(decrypted_chiper)\n",
    "\n"
   ]
  },
  {
   "cell_type": "code",
   "execution_count": null,
   "metadata": {},
   "outputs": [
    {
     "name": "stdout",
     "output_type": "stream",
     "text": [
      "\n",
      "Text to be Decrypted\n",
      "\n",
      "Enter Key: 54712\n"
     ]
    }
   ],
   "source": [
    "print(\"\\nText to be Decrypted\\n\")\n",
    "\n",
    "keywords=input(\"Enter Key: \")\n",
    "decryptedText=input(\"Text To Be Encrypted: \")\n",
    "decrypt(keywords,decryptedText)"
   ]
  }
 ],
 "metadata": {
  "kernelspec": {
   "display_name": "Python 3",
   "language": "python",
   "name": "python3"
  },
  "language_info": {
   "codemirror_mode": {
    "name": "ipython",
    "version": 3
   },
   "file_extension": ".py",
   "mimetype": "text/x-python",
   "name": "python",
   "nbconvert_exporter": "python",
   "pygments_lexer": "ipython3",
   "version": "3.7.4"
  }
 },
 "nbformat": 4,
 "nbformat_minor": 2
}
