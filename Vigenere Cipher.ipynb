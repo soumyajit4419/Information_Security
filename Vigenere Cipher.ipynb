{
 "cells": [
  {
   "cell_type": "markdown",
   "metadata": {},
   "source": [
    "# Vigenere Cipher"
   ]
  },
  {
   "cell_type": "code",
   "execution_count": 4,
   "metadata": {},
   "outputs": [],
   "source": [
    "def encode(message,key):\n",
    "    msg=message\n",
    "    key=key       \n",
    "    msg=msg.replace(\" \",\"\")\n",
    "    y=len(msg)\n",
    "    x=len(key)\n",
    "    if(x<y):\n",
    "        z=y//x\n",
    "    key=key*z\n",
    "    p=len(key)\n",
    "    z=y%p\n",
    "    s=key[0:z]\n",
    "    f_key=key+s\n",
    "    msg=msg.upper()\n",
    "    f_key=f_key.upper()\n",
    "    msg_asc_l=[]\n",
    "    for i in msg:\n",
    "        x=ord(i)\n",
    "        y=x-65\n",
    "        msg_asc_l.append(y)\n",
    "\n",
    "    key_asc_l=[]\n",
    "    for i in f_key:\n",
    "        x=ord(i)\n",
    "        y=x-65\n",
    "        key_asc_l.append(y)\n",
    "    a=len(key_asc_l)\n",
    "    encrypted_text=''\n",
    "    for i in range(a):\n",
    "        s=(key_asc_l[i]+msg_asc_l[i])%26\n",
    "        alpha=chr(s+65)\n",
    "        encrypted_text=encrypted_text+alpha\n",
    "\n",
    "    print(encrypted_text)   \n"
   ]
  },
  {
   "cell_type": "code",
   "execution_count": 9,
   "metadata": {},
   "outputs": [],
   "source": [
    "def decode(message,key):\n",
    "    msg=message\n",
    "    key=key\n",
    "    key=key.upper()\n",
    "    x=len(msg)\n",
    "    y=len(key)\n",
    "    if(y<x):\n",
    "        z=x//y\n",
    "    key=key*z\n",
    "    p=len(key)\n",
    "    z=x%p\n",
    "    s=key[0:z]\n",
    "    f_key=key+s\n",
    "\n",
    "    msg_asc_l=[]\n",
    "    for i in msg:\n",
    "        x=ord(i)\n",
    "        y=x-65\n",
    "        msg_asc_l.append(y)\n",
    "\n",
    "    key_asc_l=[]\n",
    "    for i in f_key:\n",
    "        x=ord(i)\n",
    "        y=x-65\n",
    "        key_asc_l.append(y)\n",
    "\n",
    "    a=len(key_asc_l)\n",
    "    decrypted_text=''\n",
    "    for i in range(a):\n",
    "        s=(msg_asc_l[i]-key_asc_l[i])%26\n",
    "        if(s<0):\n",
    "            s=s+26\n",
    "            alpha=chr(s+65)\n",
    "            decrypted_text=decrypted_text+alpha\n",
    "        else:\n",
    "            alpha=chr(s+65)\n",
    "            decrypted_text=decrypted_text+alpha\n",
    "    print(decrypted_text)"
   ]
  },
  {
   "cell_type": "code",
   "execution_count": 10,
   "metadata": {},
   "outputs": [
    {
     "name": "stdout",
     "output_type": "stream",
     "text": [
      "\n",
      "Text to be Encrypted\n",
      "\n",
      "Enter Key: Flask\n",
      "Enter message to be encodedHe is a donkey\n",
      "MPIKKIZNCOD\n",
      "\n",
      "Text to be Decrypted\n",
      "\n",
      "Enter Key: Flask\n",
      "Enter message to be encodedMPIKKIZNCOD\n",
      "HEISADONKEY\n"
     ]
    }
   ],
   "source": [
    "if __name__==\"__main__\":\n",
    "    try:\n",
    "        print(\"\\nText to be Encrypted\\n\")\n",
    "        key=input(\"Enter Key: \")\n",
    "        message=input(\"Enter message to be encoded\")\n",
    "        encode(message,key)\n",
    "    except:\n",
    "         print(\"\\n Something went wrong!\")\n",
    "            \n",
    "    try:\n",
    "        print(\"\\nText to be Decrypted\\n\")\n",
    "        key=input(\"Enter Key: \")\n",
    "        message=input(\"Enter message to be decoded\")\n",
    "        decode(message,key)\n",
    "    except:\n",
    "          print(\"\\n Something went wrong!\")\n",
    "    "
   ]
  }
 ],
 "metadata": {
  "kernelspec": {
   "display_name": "Python 3",
   "language": "python",
   "name": "python3"
  },
  "language_info": {
   "codemirror_mode": {
    "name": "ipython",
    "version": 3
   },
   "file_extension": ".py",
   "mimetype": "text/x-python",
   "name": "python",
   "nbconvert_exporter": "python",
   "pygments_lexer": "ipython3",
   "version": "3.7.4"
  }
 },
 "nbformat": 4,
 "nbformat_minor": 2
}
