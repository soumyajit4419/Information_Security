{
 "cells": [
  {
   "cell_type": "markdown",
   "metadata": {},
   "source": [
    "# Vigenere Cipher"
   ]
  },
  {
   "cell_type": "code",
   "execution_count": 50,
   "metadata": {},
   "outputs": [
    {
     "name": "stdout",
     "output_type": "stream",
     "text": [
      "MPIKKIZNCOD\n"
     ]
    }
   ],
   "source": [
    "msg=\"He is a donkey\"\n",
    "key=\"Flask\"\n",
    "\n",
    "msg=msg.replace(\" \",\"\")\n",
    "y=len(msg)\n",
    "x=len(key)\n",
    "if(x<y):\n",
    "    z=y//x\n",
    "key=key*z\n",
    "p=len(key)\n",
    "z=y%p\n",
    "s=key[0:z]\n",
    "f_key=key+s\n",
    "\n",
    "msg=msg.upper()\n",
    "f_key=f_key.upper()\n",
    "\n",
    "msg_asc_l=[]\n",
    "for i in msg:\n",
    "    x=ord(i)\n",
    "    y=x-65\n",
    "    msg_asc_l.append(y)\n",
    "\n",
    "key_asc_l=[]\n",
    "for i in f_key:\n",
    "    x=ord(i)\n",
    "    y=x-65\n",
    "    key_asc_l.append(y)\n",
    "a=len(key_asc_l)\n",
    "encrypted_text=''\n",
    "for i in range(a):\n",
    "    s=(key_asc_l[i]+msg_asc_l[i])%26\n",
    "    alpha=chr(s+65)\n",
    "    encrypted_text=encrypted_text+alpha\n",
    "\n",
    "print(encrypted_text)\n",
    "    \n"
   ]
  },
  {
   "cell_type": "code",
   "execution_count": null,
   "metadata": {},
   "outputs": [],
   "source": []
  }
 ],
 "metadata": {
  "kernelspec": {
   "display_name": "Python 3",
   "language": "python",
   "name": "python3"
  },
  "language_info": {
   "codemirror_mode": {
    "name": "ipython",
    "version": 3
   },
   "file_extension": ".py",
   "mimetype": "text/x-python",
   "name": "python",
   "nbconvert_exporter": "python",
   "pygments_lexer": "ipython3",
   "version": "3.7.4"
  }
 },
 "nbformat": 4,
 "nbformat_minor": 2
}
