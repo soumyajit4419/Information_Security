{
 "cells": [
  {
   "cell_type": "code",
   "execution_count": 1,
   "metadata": {},
   "outputs": [],
   "source": [
    "import numpy as np"
   ]
  },
  {
   "cell_type": "markdown",
   "metadata": {},
   "source": [
    "# Transposition Cipher\n"
   ]
  },
  {
   "cell_type": "code",
   "execution_count": 7,
   "metadata": {},
   "outputs": [],
   "source": [
    "def encrypt(keywords,encryptedText):\n",
    "    key=keywords\n",
    "    msg=encryptedText\n",
    "    col=len(list(key))\n",
    "    y=len(list(msg))\n",
    "    row=int(np.ceil(y/col))\n",
    "    arr=np.empty([row,col],np.str)\n",
    "    k=0\n",
    "    h=0\n",
    "    for i in msg:\n",
    "        if(k==col):\n",
    "            h=h+1\n",
    "            k=0\n",
    "        if(k<col):\n",
    "            if(i==' '):\n",
    "                arr[h][k]='_'\n",
    "            else:\n",
    "                arr[h][k]=i\n",
    "            k=k+1 \n",
    "    l_key=list(key)\n",
    "    l_key.sort()\n",
    "    encrypted_cipher=''\n",
    "\n",
    "\n",
    "    for i in l_key:\n",
    "        p=0\n",
    "        for j in key:\n",
    "            if i==j:\n",
    "                for g in range(row):\n",
    "                    if(arr[g][p]==''):                        \n",
    "                        encrypted_cipher=encrypted_cipher+' '\n",
    "                    else:\n",
    "                        encrypted_cipher=encrypted_cipher+arr[g][p]\n",
    "            else:\n",
    "                p=p+1\n",
    "    \n",
    "    print(\"Encrypted Text:\")\n",
    "    print(encrypted_cipher)\n",
    "               "
   ]
  },
  {
   "cell_type": "code",
   "execution_count": 3,
   "metadata": {},
   "outputs": [],
   "source": [
    "def decrypt(keywords,decryptedText):\n",
    "    msg=decryptedText\n",
    "    key=keywords\n",
    "    col=len(list(key))\n",
    "    y=len(list(msg))\n",
    "    row=int(np.ceil(y/col))\n",
    "    arr=np.empty([row,col],np.str)\n",
    "    l_key=list(key)\n",
    "    l_key.sort()\n",
    "    w=0\n",
    "    for i in l_key:\n",
    "        p=0\n",
    "        for j in key:\n",
    "            if(j==i):\n",
    "                for g in range(row):\n",
    "                    if(w<y):\n",
    "                        arr[g][p]=msg[w]\n",
    "                        w=w+1\n",
    "                    else:\n",
    "                        arr[g][p]='_'\n",
    "            else:\n",
    "                p=p+1\n",
    "\n",
    "    decrypted_cipher=''\n",
    "    for i in arr:\n",
    "        for j in i:\n",
    "            if(j=='_'):\n",
    "                decrypted_cipher=decrypted_cipher+' '\n",
    "            elif(j==' '):\n",
    "                continue\n",
    "            else:\n",
    "                decrypted_cipher=decrypted_cipher+j\n",
    "     \n",
    "    print(\"Decrypted Text:\")\n",
    "    print(decrypted_cipher)\n"
   ]
  },
  {
   "cell_type": "code",
   "execution_count": 8,
   "metadata": {},
   "outputs": [
    {
     "name": "stdout",
     "output_type": "stream",
     "text": [
      "\n",
      "Text to be Encrypted\n",
      "\n",
      "Enter Key: xsjad\n",
      "Text To Be Encrypted: He is a % ! Do78key\n",
      "Encrypted Text:\n",
      "i%oys_7 __Deea_kH_!8\n",
      "\n",
      "Text to be Decrypted\n",
      "\n",
      "\n",
      "Enter Key: xsjad\n",
      "Text To Be Decrypted: i%oys_7 __Deea_kH_!8\n",
      "Decrypted Text:\n",
      "He is a % ! Do78key\n"
     ]
    }
   ],
   "source": [
    "\n",
    "if __name__==\"__main__\":\n",
    "    \n",
    "    try:\n",
    "        print(\"\\nText to be Encrypted\\n\")\n",
    "        keywords=input(\"Enter Key: \")\n",
    "        encryptedText=input(\"Text To Be Encrypted: \")\n",
    "        encrypt(keywords,encryptedText)\n",
    "    except:\n",
    "        print(\"\\nSomething went wrong!\")\n",
    "    \n",
    "    try:\n",
    "        print(\"\\nText to be Decrypted\\n\")      \n",
    "        keywords=input(\"\\nEnter Key: \")\n",
    "        decrypted=input(\"Text To Be Decrypted: \")\n",
    "        decrypt(keywords,decrypted)\n",
    "    except:\n",
    "        print(\"\\nSomething went wrong!\")"
   ]
  }
 ],
 "metadata": {
  "kernelspec": {
   "display_name": "Python 3",
   "language": "python",
   "name": "python3"
  },
  "language_info": {
   "codemirror_mode": {
    "name": "ipython",
    "version": 3
   },
   "file_extension": ".py",
   "mimetype": "text/x-python",
   "name": "python",
   "nbconvert_exporter": "python",
   "pygments_lexer": "ipython3",
   "version": "3.7.4"
  }
 },
 "nbformat": 4,
 "nbformat_minor": 2
}
